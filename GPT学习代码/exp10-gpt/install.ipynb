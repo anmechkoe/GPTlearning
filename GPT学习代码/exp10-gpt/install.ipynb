{
 "cells": [
  {
   "cell_type": "code",
   "execution_count": 2,
   "id": "89e2b354-c6e7-4266-916f-f8b7ea2727f9",
   "metadata": {},
   "outputs": [
    {
     "name": "stdout",
     "output_type": "stream",
     "text": [
      "tensor([1, 2], device='cuda:0')\n",
      "Is CUDA available: True\n",
      "Number of GPUs: 2\n",
      "Type of GPUs: NVIDIA GeForce RTX 3090\n",
      "Torch version: 2.0.1+cu117\n"
     ]
    }
   ],
   "source": [
    "!pip install numpy\n",
    "!pip install tensorboard\n",
    "!pip install transformers datasets\n",
    "!pip install ipywidgets\n",
    "!pip install xformers\n",
    "!pip install accelerate -U\n",
    "!pip install pillow\n",
    "!pip install pytesseract\n",
    "!pip install torchvision torchaudio\n",
    "!pip install matplotlib\n",
    "!pip install evaluate\n",
    "!pip install sentencepiece\n",
    "\n",
    "import torch\n",
    "device = torch.device('cuda:0')\n",
    "print(torch.tensor([1,2], device=device))\n",
    "print('Is CUDA available:', torch.cuda.is_available())\n",
    "print('Number of GPUs:', torch.cuda.device_count())\n",
    "print('Type of GPUs:', torch.cuda.get_device_name(0))\n",
    "print('Torch version:', torch.__version__)"
   ]
  }
 ],
 "metadata": {
  "kernelspec": {
   "display_name": "Python 3 (ipykernel)",
   "language": "python",
   "name": "python3"
  },
  "language_info": {
   "codemirror_mode": {
    "name": "ipython",
    "version": 3
   },
   "file_extension": ".py",
   "mimetype": "text/x-python",
   "name": "python",
   "nbconvert_exporter": "python",
   "pygments_lexer": "ipython3",
   "version": "3.8.17"
  }
 },
 "nbformat": 4,
 "nbformat_minor": 5
}
